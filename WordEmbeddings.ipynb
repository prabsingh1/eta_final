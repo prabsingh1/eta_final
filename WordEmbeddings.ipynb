{
 "cells": [
  {
   "cell_type": "markdown",
   "id": "34b4f878",
   "metadata": {},
   "source": [
    "## Word Embeddings\n",
    "### Prabhjot Singh\n",
    "### DS 5001\n",
    "### 10 May 2021"
   ]
  },
  {
   "cell_type": "code",
   "execution_count": 2,
   "id": "306558b9",
   "metadata": {},
   "outputs": [],
   "source": [
    "# packages used\n",
    "import pandas as pd\n",
    "import numpy as np\n",
    "from gensim.models import word2vec\n",
    "from sklearn.manifold import TSNE\n",
    "import plotly_express as px\n"
   ]
  },
  {
   "cell_type": "code",
   "execution_count": 42,
   "id": "3f1c10eb",
   "metadata": {},
   "outputs": [],
   "source": [
    "# defining the OHCO\n",
    "# setting OHCO\n",
    "OHCO = [\"EVENT_Label\",\"EVENT_ID\", \"para_num\", \"sent_num\", \"token_num\"] # event ID is the chapter number \n",
    "\n",
    "# setting the bags\n",
    "SENTS = OHCO[:4]\n",
    "PARAS = OHCO[:3]\n",
    "EVENT_ID = OHCO[:2]\n",
    "EVENT_TYPE = OHCO[:1]\n",
    "\n",
    "BAG = SENTS"
   ]
  },
  {
   "cell_type": "code",
   "execution_count": 43,
   "id": "1485a351",
   "metadata": {},
   "outputs": [],
   "source": [
    "LIB = pd.read_csv(\"./data_files/LIB2020.csv\")\n",
    "LIB_Types = pd.read_csv(\"./data_files/LIB_TYPES2020.csv\", index_col=[0])\n",
    "TOKEN = pd.read_csv(\"./data_files/TOKEN2020.csv\").set_index(OHCO)\n",
    "VOCAB = pd.read_csv(\"./data_files/2020vocab_tfidf.csv\").set_index(\"term_str\")"
   ]
  },
  {
   "cell_type": "code",
   "execution_count": 44,
   "id": "fb1abb61",
   "metadata": {},
   "outputs": [
    {
     "data": {
      "text/html": [
       "<div>\n",
       "<style scoped>\n",
       "    .dataframe tbody tr th:only-of-type {\n",
       "        vertical-align: middle;\n",
       "    }\n",
       "\n",
       "    .dataframe tbody tr th {\n",
       "        vertical-align: top;\n",
       "    }\n",
       "\n",
       "    .dataframe thead th {\n",
       "        text-align: right;\n",
       "    }\n",
       "</style>\n",
       "<table border=\"1\" class=\"dataframe\">\n",
       "  <thead>\n",
       "    <tr style=\"text-align: right;\">\n",
       "      <th></th>\n",
       "      <th>term_id</th>\n",
       "      <th>n</th>\n",
       "      <th>num</th>\n",
       "      <th>stop</th>\n",
       "      <th>p_stem</th>\n",
       "      <th>pos_max</th>\n",
       "      <th>df</th>\n",
       "      <th>idf</th>\n",
       "      <th>tfidf_sum_event_max</th>\n",
       "    </tr>\n",
       "    <tr>\n",
       "      <th>term_str</th>\n",
       "      <th></th>\n",
       "      <th></th>\n",
       "      <th></th>\n",
       "      <th></th>\n",
       "      <th></th>\n",
       "      <th></th>\n",
       "      <th></th>\n",
       "      <th></th>\n",
       "      <th></th>\n",
       "    </tr>\n",
       "  </thead>\n",
       "  <tbody>\n",
       "    <tr>\n",
       "      <th>0</th>\n",
       "      <td>1</td>\n",
       "      <td>17</td>\n",
       "      <td>1</td>\n",
       "      <td>0</td>\n",
       "      <td>0</td>\n",
       "      <td>CD</td>\n",
       "      <td>17</td>\n",
       "      <td>11.412819</td>\n",
       "      <td>68.476913</td>\n",
       "    </tr>\n",
       "    <tr>\n",
       "      <th>000</th>\n",
       "      <td>2</td>\n",
       "      <td>1</td>\n",
       "      <td>1</td>\n",
       "      <td>0</td>\n",
       "      <td>000</td>\n",
       "      <td>CD</td>\n",
       "      <td>1</td>\n",
       "      <td>15.500282</td>\n",
       "      <td>1.409117</td>\n",
       "    </tr>\n",
       "    <tr>\n",
       "      <th>0000</th>\n",
       "      <td>3</td>\n",
       "      <td>11</td>\n",
       "      <td>1</td>\n",
       "      <td>0</td>\n",
       "      <td>0000</td>\n",
       "      <td>CD</td>\n",
       "      <td>11</td>\n",
       "      <td>12.040850</td>\n",
       "      <td>88.012880</td>\n",
       "    </tr>\n",
       "    <tr>\n",
       "      <th>0000cst</th>\n",
       "      <td>4</td>\n",
       "      <td>4</td>\n",
       "      <td>1</td>\n",
       "      <td>0</td>\n",
       "      <td>0000cst</td>\n",
       "      <td>CD</td>\n",
       "      <td>4</td>\n",
       "      <td>13.500282</td>\n",
       "      <td>15.187817</td>\n",
       "    </tr>\n",
       "    <tr>\n",
       "      <th>0001</th>\n",
       "      <td>5</td>\n",
       "      <td>6</td>\n",
       "      <td>1</td>\n",
       "      <td>0</td>\n",
       "      <td>0001</td>\n",
       "      <td>CD</td>\n",
       "      <td>6</td>\n",
       "      <td>12.915319</td>\n",
       "      <td>30.135745</td>\n",
       "    </tr>\n",
       "    <tr>\n",
       "      <th>...</th>\n",
       "      <td>...</td>\n",
       "      <td>...</td>\n",
       "      <td>...</td>\n",
       "      <td>...</td>\n",
       "      <td>...</td>\n",
       "      <td>...</td>\n",
       "      <td>...</td>\n",
       "      <td>...</td>\n",
       "      <td>...</td>\n",
       "    </tr>\n",
       "    <tr>\n",
       "      <th>zoologico</th>\n",
       "      <td>28971</td>\n",
       "      <td>1</td>\n",
       "      <td>0</td>\n",
       "      <td>0</td>\n",
       "      <td>zoologico</td>\n",
       "      <td>NNP</td>\n",
       "      <td>1</td>\n",
       "      <td>15.500282</td>\n",
       "      <td>15.500282</td>\n",
       "    </tr>\n",
       "    <tr>\n",
       "      <th>zortman</th>\n",
       "      <td>28972</td>\n",
       "      <td>11</td>\n",
       "      <td>0</td>\n",
       "      <td>0</td>\n",
       "      <td>zortman</td>\n",
       "      <td>NNP</td>\n",
       "      <td>11</td>\n",
       "      <td>12.040850</td>\n",
       "      <td>81.198553</td>\n",
       "    </tr>\n",
       "    <tr>\n",
       "      <th>zucksville</th>\n",
       "      <td>28973</td>\n",
       "      <td>1</td>\n",
       "      <td>0</td>\n",
       "      <td>0</td>\n",
       "      <td>zucksvil</td>\n",
       "      <td>NNP</td>\n",
       "      <td>1</td>\n",
       "      <td>15.500282</td>\n",
       "      <td>15.500282</td>\n",
       "    </tr>\n",
       "    <tr>\n",
       "      <th>zumbrunn</th>\n",
       "      <td>28974</td>\n",
       "      <td>1</td>\n",
       "      <td>0</td>\n",
       "      <td>0</td>\n",
       "      <td>zumbrunn</td>\n",
       "      <td>NNP</td>\n",
       "      <td>1</td>\n",
       "      <td>15.500282</td>\n",
       "      <td>7.750141</td>\n",
       "    </tr>\n",
       "    <tr>\n",
       "      <th>zuni</th>\n",
       "      <td>28975</td>\n",
       "      <td>1</td>\n",
       "      <td>0</td>\n",
       "      <td>0</td>\n",
       "      <td>zuni</td>\n",
       "      <td>NNP</td>\n",
       "      <td>1</td>\n",
       "      <td>15.500282</td>\n",
       "      <td>3.100056</td>\n",
       "    </tr>\n",
       "  </tbody>\n",
       "</table>\n",
       "<p>28975 rows × 9 columns</p>\n",
       "</div>"
      ],
      "text/plain": [
       "            term_id   n  num  stop     p_stem pos_max  df        idf  \\\n",
       "term_str                                                               \n",
       "0                 1  17    1     0          0      CD  17  11.412819   \n",
       "000               2   1    1     0        000      CD   1  15.500282   \n",
       "0000              3  11    1     0       0000      CD  11  12.040850   \n",
       "0000cst           4   4    1     0    0000cst      CD   4  13.500282   \n",
       "0001              5   6    1     0       0001      CD   6  12.915319   \n",
       "...             ...  ..  ...   ...        ...     ...  ..        ...   \n",
       "zoologico     28971   1    0     0  zoologico     NNP   1  15.500282   \n",
       "zortman       28972  11    0     0    zortman     NNP  11  12.040850   \n",
       "zucksville    28973   1    0     0   zucksvil     NNP   1  15.500282   \n",
       "zumbrunn      28974   1    0     0   zumbrunn     NNP   1  15.500282   \n",
       "zuni          28975   1    0     0       zuni     NNP   1  15.500282   \n",
       "\n",
       "            tfidf_sum_event_max  \n",
       "term_str                         \n",
       "0                     68.476913  \n",
       "000                    1.409117  \n",
       "0000                  88.012880  \n",
       "0000cst               15.187817  \n",
       "0001                  30.135745  \n",
       "...                         ...  \n",
       "zoologico             15.500282  \n",
       "zortman               81.198553  \n",
       "zucksville            15.500282  \n",
       "zumbrunn               7.750141  \n",
       "zuni                   3.100056  \n",
       "\n",
       "[28975 rows x 9 columns]"
      ]
     },
     "execution_count": 44,
     "metadata": {},
     "output_type": "execute_result"
    }
   ],
   "source": [
    "VOCAB"
   ]
  },
  {
   "cell_type": "code",
   "execution_count": 45,
   "id": "4d7df124",
   "metadata": {},
   "outputs": [
    {
     "data": {
      "text/html": [
       "<div>\n",
       "<style scoped>\n",
       "    .dataframe tbody tr th:only-of-type {\n",
       "        vertical-align: middle;\n",
       "    }\n",
       "\n",
       "    .dataframe tbody tr th {\n",
       "        vertical-align: top;\n",
       "    }\n",
       "\n",
       "    .dataframe thead th {\n",
       "        text-align: right;\n",
       "    }\n",
       "</style>\n",
       "<table border=\"1\" class=\"dataframe\">\n",
       "  <thead>\n",
       "    <tr style=\"text-align: right;\">\n",
       "      <th></th>\n",
       "      <th></th>\n",
       "      <th></th>\n",
       "      <th></th>\n",
       "      <th></th>\n",
       "      <th>pos_tuple</th>\n",
       "      <th>pos</th>\n",
       "      <th>token_str</th>\n",
       "      <th>term_str</th>\n",
       "    </tr>\n",
       "    <tr>\n",
       "      <th>EVENT_Label</th>\n",
       "      <th>EVENT_ID</th>\n",
       "      <th>para_num</th>\n",
       "      <th>sent_num</th>\n",
       "      <th>token_num</th>\n",
       "      <th></th>\n",
       "      <th></th>\n",
       "      <th></th>\n",
       "      <th></th>\n",
       "    </tr>\n",
       "  </thead>\n",
       "  <tbody>\n",
       "    <tr>\n",
       "      <th rowspan=\"5\" valign=\"top\">1</th>\n",
       "      <th rowspan=\"5\" valign=\"top\">863438</th>\n",
       "      <th rowspan=\"5\" valign=\"top\">0</th>\n",
       "      <th rowspan=\"5\" valign=\"top\">0</th>\n",
       "      <th>0</th>\n",
       "      <td>('Visibility', 'NNP')</td>\n",
       "      <td>NNP</td>\n",
       "      <td>Visibility</td>\n",
       "      <td>visibility</td>\n",
       "    </tr>\n",
       "    <tr>\n",
       "      <th>1</th>\n",
       "      <td>('below', 'IN')</td>\n",
       "      <td>IN</td>\n",
       "      <td>below</td>\n",
       "      <td>below</td>\n",
       "    </tr>\n",
       "    <tr>\n",
       "      <th>2</th>\n",
       "      <td>('a', 'DT')</td>\n",
       "      <td>DT</td>\n",
       "      <td>a</td>\n",
       "      <td>a</td>\n",
       "    </tr>\n",
       "    <tr>\n",
       "      <th>3</th>\n",
       "      <td>('quarter', 'NN')</td>\n",
       "      <td>NN</td>\n",
       "      <td>quarter</td>\n",
       "      <td>quarter</td>\n",
       "    </tr>\n",
       "    <tr>\n",
       "      <th>4</th>\n",
       "      <td>('mile', 'NN')</td>\n",
       "      <td>NN</td>\n",
       "      <td>mile</td>\n",
       "      <td>mile</td>\n",
       "    </tr>\n",
       "    <tr>\n",
       "      <th>...</th>\n",
       "      <th>...</th>\n",
       "      <th>...</th>\n",
       "      <th>...</th>\n",
       "      <th>...</th>\n",
       "      <td>...</td>\n",
       "      <td>...</td>\n",
       "      <td>...</td>\n",
       "      <td>...</td>\n",
       "    </tr>\n",
       "    <tr>\n",
       "      <th rowspan=\"5\" valign=\"top\">11</th>\n",
       "      <th rowspan=\"5\" valign=\"top\">932481</th>\n",
       "      <th rowspan=\"5\" valign=\"top\">0</th>\n",
       "      <th rowspan=\"5\" valign=\"top\">1</th>\n",
       "      <th>6</th>\n",
       "      <td>('Spaulding', 'NNP')</td>\n",
       "      <td>NNP</td>\n",
       "      <td>Spaulding</td>\n",
       "      <td>spaulding</td>\n",
       "    </tr>\n",
       "    <tr>\n",
       "      <th>7</th>\n",
       "      <td>('also', 'RB')</td>\n",
       "      <td>RB</td>\n",
       "      <td>also</td>\n",
       "      <td>also</td>\n",
       "    </tr>\n",
       "    <tr>\n",
       "      <th>8</th>\n",
       "      <td>('in', 'IN')</td>\n",
       "      <td>IN</td>\n",
       "      <td>in</td>\n",
       "      <td>in</td>\n",
       "    </tr>\n",
       "    <tr>\n",
       "      <th>9</th>\n",
       "      <td>('Lassen', 'NNP')</td>\n",
       "      <td>NNP</td>\n",
       "      <td>Lassen</td>\n",
       "      <td>lassen</td>\n",
       "    </tr>\n",
       "    <tr>\n",
       "      <th>10</th>\n",
       "      <td>('County.', 'NNP')</td>\n",
       "      <td>NNP</td>\n",
       "      <td>County.</td>\n",
       "      <td>county</td>\n",
       "    </tr>\n",
       "  </tbody>\n",
       "</table>\n",
       "<p>1149191 rows × 4 columns</p>\n",
       "</div>"
      ],
      "text/plain": [
       "                                                              pos_tuple  pos  \\\n",
       "EVENT_Label EVENT_ID para_num sent_num token_num                               \n",
       "1           863438   0        0        0          ('Visibility', 'NNP')  NNP   \n",
       "                                       1                ('below', 'IN')   IN   \n",
       "                                       2                    ('a', 'DT')   DT   \n",
       "                                       3              ('quarter', 'NN')   NN   \n",
       "                                       4                 ('mile', 'NN')   NN   \n",
       "...                                                                 ...  ...   \n",
       "11          932481   0        1        6           ('Spaulding', 'NNP')  NNP   \n",
       "                                       7                 ('also', 'RB')   RB   \n",
       "                                       8                   ('in', 'IN')   IN   \n",
       "                                       9              ('Lassen', 'NNP')  NNP   \n",
       "                                       10            ('County.', 'NNP')  NNP   \n",
       "\n",
       "                                                   token_str    term_str  \n",
       "EVENT_Label EVENT_ID para_num sent_num token_num                          \n",
       "1           863438   0        0        0          Visibility  visibility  \n",
       "                                       1               below       below  \n",
       "                                       2                   a           a  \n",
       "                                       3             quarter     quarter  \n",
       "                                       4                mile        mile  \n",
       "...                                                      ...         ...  \n",
       "11          932481   0        1        6           Spaulding   spaulding  \n",
       "                                       7                also        also  \n",
       "                                       8                  in          in  \n",
       "                                       9              Lassen      lassen  \n",
       "                                       10            County.      county  \n",
       "\n",
       "[1149191 rows x 4 columns]"
      ]
     },
     "execution_count": 45,
     "metadata": {},
     "output_type": "execute_result"
    }
   ],
   "source": [
    "TOKEN"
   ]
  },
  {
   "cell_type": "code",
   "execution_count": 46,
   "id": "022be124",
   "metadata": {},
   "outputs": [],
   "source": [
    "# # making doc table\n",
    "DOCS = TOKEN[~TOKEN.pos.str.match('NNPS?')]\\\n",
    "    .groupby(BAG)\\\n",
    "    .term_str.apply(lambda  x:  x.tolist())\\\n",
    "    .reset_index()['term_str'].tolist()\n",
    "DOCS = [doc for doc in DOCS if len(doc) > 1] # Lose single word docs"
   ]
  },
  {
   "cell_type": "code",
   "execution_count": 47,
   "id": "46a7ec65",
   "metadata": {},
   "outputs": [],
   "source": [
    "DOCS = str(DOCS)"
   ]
  },
  {
   "cell_type": "code",
   "execution_count": 48,
   "id": "d0f5a783",
   "metadata": {},
   "outputs": [],
   "source": [
    "# DOCS"
   ]
  },
  {
   "cell_type": "code",
   "execution_count": 49,
   "id": "0bada5ce",
   "metadata": {},
   "outputs": [],
   "source": [
    "# making the model\n",
    "w2v_params_2020 = dict(\n",
    "        window = 5,\n",
    "        size = 246,\n",
    "        min_count = 100,\n",
    "        workers = 4)\n",
    "\n",
    "model_2020 = word2vec.Word2Vec(DOCS, **w2v_params_2020)\n"
   ]
  },
  {
   "cell_type": "code",
   "execution_count": 28,
   "id": "ed5d7782",
   "metadata": {},
   "outputs": [],
   "source": [
    "# model_2020"
   ]
  },
  {
   "cell_type": "code",
   "execution_count": 37,
   "id": "87601a88",
   "metadata": {},
   "outputs": [],
   "source": [
    "def t_sne(model, VOCAB):\n",
    "    \n",
    "    coords = pd.DataFrame(\n",
    "    dict(\n",
    "        vector = [model.wv.get_vector(w) for w in model.wv.vocab], \n",
    "        term_str = model.wv.vocab.keys()\n",
    "    )).set_index('term_str')\n",
    "    \n",
    "    \n",
    "    tsne_engine = TSNE(perplexity=40, n_components=2, init='pca', n_iter=2500, random_state=23)\n",
    "    tsne_model = tsne_engine.fit_transform(coords.vector.to_list())\n",
    "    \n",
    "    \n",
    "    coords['x'] = tsne_model[:,0]\n",
    "    coords['y'] = tsne_model[:,1]\n",
    "    \n",
    "    if coords.shape[1] == 3:\n",
    "        coords = coords.merge(VOCAB.reset_index(), on='term_str')\n",
    "        coords = coords.set_index('term_str')\n",
    "        \n",
    "    coords = coords[coords.stop == 0]\n",
    "    \n",
    "    fig = px.scatter(coords.reset_index(), 'x', 'y', \n",
    "           text='term_str', \n",
    "           color='pos_max', \n",
    "           hover_name='term_str',          \n",
    "           size='tfidf_sum_event_max',\n",
    "           height=1000).update_traces(\n",
    "                mode='markers+text', \n",
    "                textfont=dict(color='black', size=14, family='Arial'),\n",
    "                textposition='top center')\n",
    "    fig.show()"
   ]
  },
  {
   "cell_type": "code",
   "execution_count": 39,
   "id": "71f1b031",
   "metadata": {},
   "outputs": [
    {
     "data": {
      "text/html": [
       "<div>\n",
       "<style scoped>\n",
       "    .dataframe tbody tr th:only-of-type {\n",
       "        vertical-align: middle;\n",
       "    }\n",
       "\n",
       "    .dataframe tbody tr th {\n",
       "        vertical-align: top;\n",
       "    }\n",
       "\n",
       "    .dataframe thead th {\n",
       "        text-align: right;\n",
       "    }\n",
       "</style>\n",
       "<table border=\"1\" class=\"dataframe\">\n",
       "  <thead>\n",
       "    <tr style=\"text-align: right;\">\n",
       "      <th></th>\n",
       "      <th>term_id</th>\n",
       "      <th>n</th>\n",
       "      <th>num</th>\n",
       "      <th>stop</th>\n",
       "      <th>p_stem</th>\n",
       "      <th>pos_max</th>\n",
       "      <th>df</th>\n",
       "      <th>idf</th>\n",
       "      <th>tfidf_sum_event_max</th>\n",
       "    </tr>\n",
       "    <tr>\n",
       "      <th>term_str</th>\n",
       "      <th></th>\n",
       "      <th></th>\n",
       "      <th></th>\n",
       "      <th></th>\n",
       "      <th></th>\n",
       "      <th></th>\n",
       "      <th></th>\n",
       "      <th></th>\n",
       "      <th></th>\n",
       "    </tr>\n",
       "  </thead>\n",
       "  <tbody>\n",
       "    <tr>\n",
       "      <th>0</th>\n",
       "      <td>1</td>\n",
       "      <td>17</td>\n",
       "      <td>1</td>\n",
       "      <td>0</td>\n",
       "      <td>0</td>\n",
       "      <td>CD</td>\n",
       "      <td>17</td>\n",
       "      <td>11.412819</td>\n",
       "      <td>68.476913</td>\n",
       "    </tr>\n",
       "    <tr>\n",
       "      <th>000</th>\n",
       "      <td>2</td>\n",
       "      <td>1</td>\n",
       "      <td>1</td>\n",
       "      <td>0</td>\n",
       "      <td>000</td>\n",
       "      <td>CD</td>\n",
       "      <td>1</td>\n",
       "      <td>15.500282</td>\n",
       "      <td>1.409117</td>\n",
       "    </tr>\n",
       "    <tr>\n",
       "      <th>0000</th>\n",
       "      <td>3</td>\n",
       "      <td>11</td>\n",
       "      <td>1</td>\n",
       "      <td>0</td>\n",
       "      <td>0000</td>\n",
       "      <td>CD</td>\n",
       "      <td>11</td>\n",
       "      <td>12.040850</td>\n",
       "      <td>88.012880</td>\n",
       "    </tr>\n",
       "    <tr>\n",
       "      <th>0000cst</th>\n",
       "      <td>4</td>\n",
       "      <td>4</td>\n",
       "      <td>1</td>\n",
       "      <td>0</td>\n",
       "      <td>0000cst</td>\n",
       "      <td>CD</td>\n",
       "      <td>4</td>\n",
       "      <td>13.500282</td>\n",
       "      <td>15.187817</td>\n",
       "    </tr>\n",
       "    <tr>\n",
       "      <th>0001</th>\n",
       "      <td>5</td>\n",
       "      <td>6</td>\n",
       "      <td>1</td>\n",
       "      <td>0</td>\n",
       "      <td>0001</td>\n",
       "      <td>CD</td>\n",
       "      <td>6</td>\n",
       "      <td>12.915319</td>\n",
       "      <td>30.135745</td>\n",
       "    </tr>\n",
       "    <tr>\n",
       "      <th>...</th>\n",
       "      <td>...</td>\n",
       "      <td>...</td>\n",
       "      <td>...</td>\n",
       "      <td>...</td>\n",
       "      <td>...</td>\n",
       "      <td>...</td>\n",
       "      <td>...</td>\n",
       "      <td>...</td>\n",
       "      <td>...</td>\n",
       "    </tr>\n",
       "    <tr>\n",
       "      <th>zoologico</th>\n",
       "      <td>28971</td>\n",
       "      <td>1</td>\n",
       "      <td>0</td>\n",
       "      <td>0</td>\n",
       "      <td>zoologico</td>\n",
       "      <td>NNP</td>\n",
       "      <td>1</td>\n",
       "      <td>15.500282</td>\n",
       "      <td>15.500282</td>\n",
       "    </tr>\n",
       "    <tr>\n",
       "      <th>zortman</th>\n",
       "      <td>28972</td>\n",
       "      <td>11</td>\n",
       "      <td>0</td>\n",
       "      <td>0</td>\n",
       "      <td>zortman</td>\n",
       "      <td>NNP</td>\n",
       "      <td>11</td>\n",
       "      <td>12.040850</td>\n",
       "      <td>81.198553</td>\n",
       "    </tr>\n",
       "    <tr>\n",
       "      <th>zucksville</th>\n",
       "      <td>28973</td>\n",
       "      <td>1</td>\n",
       "      <td>0</td>\n",
       "      <td>0</td>\n",
       "      <td>zucksvil</td>\n",
       "      <td>NNP</td>\n",
       "      <td>1</td>\n",
       "      <td>15.500282</td>\n",
       "      <td>15.500282</td>\n",
       "    </tr>\n",
       "    <tr>\n",
       "      <th>zumbrunn</th>\n",
       "      <td>28974</td>\n",
       "      <td>1</td>\n",
       "      <td>0</td>\n",
       "      <td>0</td>\n",
       "      <td>zumbrunn</td>\n",
       "      <td>NNP</td>\n",
       "      <td>1</td>\n",
       "      <td>15.500282</td>\n",
       "      <td>7.750141</td>\n",
       "    </tr>\n",
       "    <tr>\n",
       "      <th>zuni</th>\n",
       "      <td>28975</td>\n",
       "      <td>1</td>\n",
       "      <td>0</td>\n",
       "      <td>0</td>\n",
       "      <td>zuni</td>\n",
       "      <td>NNP</td>\n",
       "      <td>1</td>\n",
       "      <td>15.500282</td>\n",
       "      <td>3.100056</td>\n",
       "    </tr>\n",
       "  </tbody>\n",
       "</table>\n",
       "<p>28975 rows × 9 columns</p>\n",
       "</div>"
      ],
      "text/plain": [
       "            term_id   n  num  stop     p_stem pos_max  df        idf  \\\n",
       "term_str                                                               \n",
       "0                 1  17    1     0          0      CD  17  11.412819   \n",
       "000               2   1    1     0        000      CD   1  15.500282   \n",
       "0000              3  11    1     0       0000      CD  11  12.040850   \n",
       "0000cst           4   4    1     0    0000cst      CD   4  13.500282   \n",
       "0001              5   6    1     0       0001      CD   6  12.915319   \n",
       "...             ...  ..  ...   ...        ...     ...  ..        ...   \n",
       "zoologico     28971   1    0     0  zoologico     NNP   1  15.500282   \n",
       "zortman       28972  11    0     0    zortman     NNP  11  12.040850   \n",
       "zucksville    28973   1    0     0   zucksvil     NNP   1  15.500282   \n",
       "zumbrunn      28974   1    0     0   zumbrunn     NNP   1  15.500282   \n",
       "zuni          28975   1    0     0       zuni     NNP   1  15.500282   \n",
       "\n",
       "            tfidf_sum_event_max  \n",
       "term_str                         \n",
       "0                     68.476913  \n",
       "000                    1.409117  \n",
       "0000                  88.012880  \n",
       "0000cst               15.187817  \n",
       "0001                  30.135745  \n",
       "...                         ...  \n",
       "zoologico             15.500282  \n",
       "zortman               81.198553  \n",
       "zucksville            15.500282  \n",
       "zumbrunn               7.750141  \n",
       "zuni                   3.100056  \n",
       "\n",
       "[28975 rows x 9 columns]"
      ]
     },
     "execution_count": 39,
     "metadata": {},
     "output_type": "execute_result"
    }
   ],
   "source": [
    "VOCAB"
   ]
  },
  {
   "cell_type": "code",
   "execution_count": 38,
   "id": "41ce8212",
   "metadata": {},
   "outputs": [
    {
     "data": {
      "application/vnd.plotly.v1+json": {
       "config": {
        "plotlyServerURL": "https://plot.ly"
       },
       "data": [
        {
         "hovertemplate": "<b>%{hovertext}</b><br><br>pos_max=NNP<br>x=%{x}<br>y=%{y}<br>tfidf_sum_event_max=%{marker.size}<br>term_str=%{text}<extra></extra>",
         "hovertext": [
          "b",
          "e",
          "l",
          "w",
          "q",
          "u",
          "r",
          "p",
          "n",
          "v",
          "f",
          "c",
          "h",
          "g",
          "k",
          "j",
          "z"
         ],
         "legendgroup": "NNP",
         "marker": {
          "color": "#636efa",
          "size": [
           181.38239689135625,
           864.012821408875,
           46.25104235808095,
           893.5124882440413,
           28.990248370164792,
           242.28971313317476,
           64.2087453425996,
           138.98570906135078,
           684.8263921525794,
           97.27401482481244,
           100.52590204661942,
           176.74944742892325,
           178.9500807968442,
           38.10019169215335,
           163.65766464712704,
           170.73667791179477,
           157.90803734289196
          ],
          "sizemode": "area",
          "sizeref": 8.14069817785464,
          "symbol": "circle"
         },
         "mode": "markers+text",
         "name": "NNP",
         "orientation": "v",
         "showlegend": true,
         "text": [
          "b",
          "e",
          "l",
          "w",
          "q",
          "u",
          "r",
          "p",
          "n",
          "v",
          "f",
          "c",
          "h",
          "g",
          "k",
          "j",
          "z"
         ],
         "textfont": {
          "color": "black",
          "family": "Arial",
          "size": 14
         },
         "textposition": "top center",
         "type": "scatter",
         "x": [
          -119.69706726074219,
          -31.97583770751953,
          122.18194580078125,
          -174.57171630859375,
          -277.9150085449219,
          -9.947990417480469,
          91.13666534423828,
          311.6803283691406,
          130.26087951660156,
          -127.54778289794922,
          46.37028884887695,
          -201.90219116210938,
          -280.2319030761719,
          87.0575180053711,
          -225.50599670410156,
          -166.896240234375,
          103.70291137695312
         ],
         "xaxis": "x",
         "y": [
          7.452086925506592,
          155.93994140625,
          -174.36575317382812,
          81.79692840576172,
          58.17235565185547,
          323.5917053222656,
          67.34114074707031,
          33.2664680480957,
          -16.98927879333496,
          162.63328552246094,
          -6.2982001304626465,
          -14.403026580810547,
          -71.83098602294922,
          -268.0746765136719,
          -185.40138244628906,
          260.5177001953125,
          293.7777404785156
         ],
         "yaxis": "y"
        },
        {
         "hovertemplate": "<b>%{hovertext}</b><br><br>pos_max=CD<br>x=%{x}<br>y=%{y}<br>tfidf_sum_event_max=%{marker.size}<br>term_str=%{text}<extra></extra>",
         "hovertext": [
          "2",
          "0",
          "5",
          "1",
          "9",
          "8",
          "4",
          "3",
          "7",
          "6"
         ],
         "legendgroup": "CD",
         "marker": {
          "color": "#EF553B",
          "size": [
           3256.279271141856,
           68.4769132628995,
           2592.20175711307,
           2936.288022224119,
           1446.1810475355046,
           2092.3449235853395,
           2771.999251835042,
           3172.469429087317,
           1801.551661364651,
           2750.102207278499
          ],
          "sizemode": "area",
          "sizeref": 8.14069817785464,
          "symbol": "circle"
         },
         "mode": "markers+text",
         "name": "CD",
         "orientation": "v",
         "showlegend": true,
         "text": [
          "2",
          "0",
          "5",
          "1",
          "9",
          "8",
          "4",
          "3",
          "7",
          "6"
         ],
         "textfont": {
          "color": "black",
          "family": "Arial",
          "size": 14
         },
         "textposition": "top center",
         "type": "scatter",
         "x": [
          -66.31588745117188,
          239.95755004882812,
          -88.18539428710938,
          6.257959842681885,
          -59.075340270996094,
          224.73927307128906,
          172.9903106689453,
          282.400634765625,
          29.88156509399414,
          -25.0958251953125
         ],
         "xaxis": "x",
         "y": [
          241.46798706054688,
          111.86864471435547,
          -71.61470031738281,
          73.59330749511719,
          -153.885009765625,
          -15.055127143859863,
          60.591426849365234,
          196.3696746826172,
          -169.86354064941406,
          -259.5292663574219
         ],
         "yaxis": "y"
        },
        {
         "hovertemplate": "<b>%{hovertext}</b><br><br>pos_max=JJ<br>x=%{x}<br>y=%{y}<br>tfidf_sum_event_max=%{marker.size}<br>term_str=%{text}<extra></extra>",
         "hovertext": [
          "x"
         ],
         "legendgroup": "JJ",
         "marker": {
          "color": "#00cc96",
          "size": [
           33.60026764767186
          ],
          "sizemode": "area",
          "sizeref": 8.14069817785464,
          "symbol": "circle"
         },
         "mode": "markers+text",
         "name": "JJ",
         "orientation": "v",
         "showlegend": true,
         "text": [
          "x"
         ],
         "textfont": {
          "color": "black",
          "family": "Arial",
          "size": 14
         },
         "textposition": "top center",
         "type": "scatter",
         "x": [
          142.084716796875
         ],
         "xaxis": "x",
         "y": [
          154.21224975585938
         ],
         "yaxis": "y"
        }
       ],
       "layout": {
        "height": 1000,
        "legend": {
         "itemsizing": "constant",
         "title": {
          "text": "pos_max"
         },
         "tracegroupgap": 0
        },
        "margin": {
         "t": 60
        },
        "template": {
         "data": {
          "bar": [
           {
            "error_x": {
             "color": "#2a3f5f"
            },
            "error_y": {
             "color": "#2a3f5f"
            },
            "marker": {
             "line": {
              "color": "#E5ECF6",
              "width": 0.5
             }
            },
            "type": "bar"
           }
          ],
          "barpolar": [
           {
            "marker": {
             "line": {
              "color": "#E5ECF6",
              "width": 0.5
             }
            },
            "type": "barpolar"
           }
          ],
          "carpet": [
           {
            "aaxis": {
             "endlinecolor": "#2a3f5f",
             "gridcolor": "white",
             "linecolor": "white",
             "minorgridcolor": "white",
             "startlinecolor": "#2a3f5f"
            },
            "baxis": {
             "endlinecolor": "#2a3f5f",
             "gridcolor": "white",
             "linecolor": "white",
             "minorgridcolor": "white",
             "startlinecolor": "#2a3f5f"
            },
            "type": "carpet"
           }
          ],
          "choropleth": [
           {
            "colorbar": {
             "outlinewidth": 0,
             "ticks": ""
            },
            "type": "choropleth"
           }
          ],
          "contour": [
           {
            "colorbar": {
             "outlinewidth": 0,
             "ticks": ""
            },
            "colorscale": [
             [
              0,
              "#0d0887"
             ],
             [
              0.1111111111111111,
              "#46039f"
             ],
             [
              0.2222222222222222,
              "#7201a8"
             ],
             [
              0.3333333333333333,
              "#9c179e"
             ],
             [
              0.4444444444444444,
              "#bd3786"
             ],
             [
              0.5555555555555556,
              "#d8576b"
             ],
             [
              0.6666666666666666,
              "#ed7953"
             ],
             [
              0.7777777777777778,
              "#fb9f3a"
             ],
             [
              0.8888888888888888,
              "#fdca26"
             ],
             [
              1,
              "#f0f921"
             ]
            ],
            "type": "contour"
           }
          ],
          "contourcarpet": [
           {
            "colorbar": {
             "outlinewidth": 0,
             "ticks": ""
            },
            "type": "contourcarpet"
           }
          ],
          "heatmap": [
           {
            "colorbar": {
             "outlinewidth": 0,
             "ticks": ""
            },
            "colorscale": [
             [
              0,
              "#0d0887"
             ],
             [
              0.1111111111111111,
              "#46039f"
             ],
             [
              0.2222222222222222,
              "#7201a8"
             ],
             [
              0.3333333333333333,
              "#9c179e"
             ],
             [
              0.4444444444444444,
              "#bd3786"
             ],
             [
              0.5555555555555556,
              "#d8576b"
             ],
             [
              0.6666666666666666,
              "#ed7953"
             ],
             [
              0.7777777777777778,
              "#fb9f3a"
             ],
             [
              0.8888888888888888,
              "#fdca26"
             ],
             [
              1,
              "#f0f921"
             ]
            ],
            "type": "heatmap"
           }
          ],
          "heatmapgl": [
           {
            "colorbar": {
             "outlinewidth": 0,
             "ticks": ""
            },
            "colorscale": [
             [
              0,
              "#0d0887"
             ],
             [
              0.1111111111111111,
              "#46039f"
             ],
             [
              0.2222222222222222,
              "#7201a8"
             ],
             [
              0.3333333333333333,
              "#9c179e"
             ],
             [
              0.4444444444444444,
              "#bd3786"
             ],
             [
              0.5555555555555556,
              "#d8576b"
             ],
             [
              0.6666666666666666,
              "#ed7953"
             ],
             [
              0.7777777777777778,
              "#fb9f3a"
             ],
             [
              0.8888888888888888,
              "#fdca26"
             ],
             [
              1,
              "#f0f921"
             ]
            ],
            "type": "heatmapgl"
           }
          ],
          "histogram": [
           {
            "marker": {
             "colorbar": {
              "outlinewidth": 0,
              "ticks": ""
             }
            },
            "type": "histogram"
           }
          ],
          "histogram2d": [
           {
            "colorbar": {
             "outlinewidth": 0,
             "ticks": ""
            },
            "colorscale": [
             [
              0,
              "#0d0887"
             ],
             [
              0.1111111111111111,
              "#46039f"
             ],
             [
              0.2222222222222222,
              "#7201a8"
             ],
             [
              0.3333333333333333,
              "#9c179e"
             ],
             [
              0.4444444444444444,
              "#bd3786"
             ],
             [
              0.5555555555555556,
              "#d8576b"
             ],
             [
              0.6666666666666666,
              "#ed7953"
             ],
             [
              0.7777777777777778,
              "#fb9f3a"
             ],
             [
              0.8888888888888888,
              "#fdca26"
             ],
             [
              1,
              "#f0f921"
             ]
            ],
            "type": "histogram2d"
           }
          ],
          "histogram2dcontour": [
           {
            "colorbar": {
             "outlinewidth": 0,
             "ticks": ""
            },
            "colorscale": [
             [
              0,
              "#0d0887"
             ],
             [
              0.1111111111111111,
              "#46039f"
             ],
             [
              0.2222222222222222,
              "#7201a8"
             ],
             [
              0.3333333333333333,
              "#9c179e"
             ],
             [
              0.4444444444444444,
              "#bd3786"
             ],
             [
              0.5555555555555556,
              "#d8576b"
             ],
             [
              0.6666666666666666,
              "#ed7953"
             ],
             [
              0.7777777777777778,
              "#fb9f3a"
             ],
             [
              0.8888888888888888,
              "#fdca26"
             ],
             [
              1,
              "#f0f921"
             ]
            ],
            "type": "histogram2dcontour"
           }
          ],
          "mesh3d": [
           {
            "colorbar": {
             "outlinewidth": 0,
             "ticks": ""
            },
            "type": "mesh3d"
           }
          ],
          "parcoords": [
           {
            "line": {
             "colorbar": {
              "outlinewidth": 0,
              "ticks": ""
             }
            },
            "type": "parcoords"
           }
          ],
          "pie": [
           {
            "automargin": true,
            "type": "pie"
           }
          ],
          "scatter": [
           {
            "marker": {
             "colorbar": {
              "outlinewidth": 0,
              "ticks": ""
             }
            },
            "type": "scatter"
           }
          ],
          "scatter3d": [
           {
            "line": {
             "colorbar": {
              "outlinewidth": 0,
              "ticks": ""
             }
            },
            "marker": {
             "colorbar": {
              "outlinewidth": 0,
              "ticks": ""
             }
            },
            "type": "scatter3d"
           }
          ],
          "scattercarpet": [
           {
            "marker": {
             "colorbar": {
              "outlinewidth": 0,
              "ticks": ""
             }
            },
            "type": "scattercarpet"
           }
          ],
          "scattergeo": [
           {
            "marker": {
             "colorbar": {
              "outlinewidth": 0,
              "ticks": ""
             }
            },
            "type": "scattergeo"
           }
          ],
          "scattergl": [
           {
            "marker": {
             "colorbar": {
              "outlinewidth": 0,
              "ticks": ""
             }
            },
            "type": "scattergl"
           }
          ],
          "scattermapbox": [
           {
            "marker": {
             "colorbar": {
              "outlinewidth": 0,
              "ticks": ""
             }
            },
            "type": "scattermapbox"
           }
          ],
          "scatterpolar": [
           {
            "marker": {
             "colorbar": {
              "outlinewidth": 0,
              "ticks": ""
             }
            },
            "type": "scatterpolar"
           }
          ],
          "scatterpolargl": [
           {
            "marker": {
             "colorbar": {
              "outlinewidth": 0,
              "ticks": ""
             }
            },
            "type": "scatterpolargl"
           }
          ],
          "scatterternary": [
           {
            "marker": {
             "colorbar": {
              "outlinewidth": 0,
              "ticks": ""
             }
            },
            "type": "scatterternary"
           }
          ],
          "surface": [
           {
            "colorbar": {
             "outlinewidth": 0,
             "ticks": ""
            },
            "colorscale": [
             [
              0,
              "#0d0887"
             ],
             [
              0.1111111111111111,
              "#46039f"
             ],
             [
              0.2222222222222222,
              "#7201a8"
             ],
             [
              0.3333333333333333,
              "#9c179e"
             ],
             [
              0.4444444444444444,
              "#bd3786"
             ],
             [
              0.5555555555555556,
              "#d8576b"
             ],
             [
              0.6666666666666666,
              "#ed7953"
             ],
             [
              0.7777777777777778,
              "#fb9f3a"
             ],
             [
              0.8888888888888888,
              "#fdca26"
             ],
             [
              1,
              "#f0f921"
             ]
            ],
            "type": "surface"
           }
          ],
          "table": [
           {
            "cells": {
             "fill": {
              "color": "#EBF0F8"
             },
             "line": {
              "color": "white"
             }
            },
            "header": {
             "fill": {
              "color": "#C8D4E3"
             },
             "line": {
              "color": "white"
             }
            },
            "type": "table"
           }
          ]
         },
         "layout": {
          "annotationdefaults": {
           "arrowcolor": "#2a3f5f",
           "arrowhead": 0,
           "arrowwidth": 1
          },
          "autotypenumbers": "strict",
          "coloraxis": {
           "colorbar": {
            "outlinewidth": 0,
            "ticks": ""
           }
          },
          "colorscale": {
           "diverging": [
            [
             0,
             "#8e0152"
            ],
            [
             0.1,
             "#c51b7d"
            ],
            [
             0.2,
             "#de77ae"
            ],
            [
             0.3,
             "#f1b6da"
            ],
            [
             0.4,
             "#fde0ef"
            ],
            [
             0.5,
             "#f7f7f7"
            ],
            [
             0.6,
             "#e6f5d0"
            ],
            [
             0.7,
             "#b8e186"
            ],
            [
             0.8,
             "#7fbc41"
            ],
            [
             0.9,
             "#4d9221"
            ],
            [
             1,
             "#276419"
            ]
           ],
           "sequential": [
            [
             0,
             "#0d0887"
            ],
            [
             0.1111111111111111,
             "#46039f"
            ],
            [
             0.2222222222222222,
             "#7201a8"
            ],
            [
             0.3333333333333333,
             "#9c179e"
            ],
            [
             0.4444444444444444,
             "#bd3786"
            ],
            [
             0.5555555555555556,
             "#d8576b"
            ],
            [
             0.6666666666666666,
             "#ed7953"
            ],
            [
             0.7777777777777778,
             "#fb9f3a"
            ],
            [
             0.8888888888888888,
             "#fdca26"
            ],
            [
             1,
             "#f0f921"
            ]
           ],
           "sequentialminus": [
            [
             0,
             "#0d0887"
            ],
            [
             0.1111111111111111,
             "#46039f"
            ],
            [
             0.2222222222222222,
             "#7201a8"
            ],
            [
             0.3333333333333333,
             "#9c179e"
            ],
            [
             0.4444444444444444,
             "#bd3786"
            ],
            [
             0.5555555555555556,
             "#d8576b"
            ],
            [
             0.6666666666666666,
             "#ed7953"
            ],
            [
             0.7777777777777778,
             "#fb9f3a"
            ],
            [
             0.8888888888888888,
             "#fdca26"
            ],
            [
             1,
             "#f0f921"
            ]
           ]
          },
          "colorway": [
           "#636efa",
           "#EF553B",
           "#00cc96",
           "#ab63fa",
           "#FFA15A",
           "#19d3f3",
           "#FF6692",
           "#B6E880",
           "#FF97FF",
           "#FECB52"
          ],
          "font": {
           "color": "#2a3f5f"
          },
          "geo": {
           "bgcolor": "white",
           "lakecolor": "white",
           "landcolor": "#E5ECF6",
           "showlakes": true,
           "showland": true,
           "subunitcolor": "white"
          },
          "hoverlabel": {
           "align": "left"
          },
          "hovermode": "closest",
          "mapbox": {
           "style": "light"
          },
          "paper_bgcolor": "white",
          "plot_bgcolor": "#E5ECF6",
          "polar": {
           "angularaxis": {
            "gridcolor": "white",
            "linecolor": "white",
            "ticks": ""
           },
           "bgcolor": "#E5ECF6",
           "radialaxis": {
            "gridcolor": "white",
            "linecolor": "white",
            "ticks": ""
           }
          },
          "scene": {
           "xaxis": {
            "backgroundcolor": "#E5ECF6",
            "gridcolor": "white",
            "gridwidth": 2,
            "linecolor": "white",
            "showbackground": true,
            "ticks": "",
            "zerolinecolor": "white"
           },
           "yaxis": {
            "backgroundcolor": "#E5ECF6",
            "gridcolor": "white",
            "gridwidth": 2,
            "linecolor": "white",
            "showbackground": true,
            "ticks": "",
            "zerolinecolor": "white"
           },
           "zaxis": {
            "backgroundcolor": "#E5ECF6",
            "gridcolor": "white",
            "gridwidth": 2,
            "linecolor": "white",
            "showbackground": true,
            "ticks": "",
            "zerolinecolor": "white"
           }
          },
          "shapedefaults": {
           "line": {
            "color": "#2a3f5f"
           }
          },
          "ternary": {
           "aaxis": {
            "gridcolor": "white",
            "linecolor": "white",
            "ticks": ""
           },
           "baxis": {
            "gridcolor": "white",
            "linecolor": "white",
            "ticks": ""
           },
           "bgcolor": "#E5ECF6",
           "caxis": {
            "gridcolor": "white",
            "linecolor": "white",
            "ticks": ""
           }
          },
          "title": {
           "x": 0.05
          },
          "xaxis": {
           "automargin": true,
           "gridcolor": "white",
           "linecolor": "white",
           "ticks": "",
           "title": {
            "standoff": 15
           },
           "zerolinecolor": "white",
           "zerolinewidth": 2
          },
          "yaxis": {
           "automargin": true,
           "gridcolor": "white",
           "linecolor": "white",
           "ticks": "",
           "title": {
            "standoff": 15
           },
           "zerolinecolor": "white",
           "zerolinewidth": 2
          }
         }
        },
        "xaxis": {
         "anchor": "y",
         "domain": [
          0,
          1
         ],
         "title": {
          "text": "x"
         }
        },
        "yaxis": {
         "anchor": "x",
         "domain": [
          0,
          1
         ],
         "title": {
          "text": "y"
         }
        }
       }
      },
      "text/html": [
       "<div>                            <div id=\"3208dcf3-d075-47f8-982d-f8137bb6a4d1\" class=\"plotly-graph-div\" style=\"height:1000px; width:100%;\"></div>            <script type=\"text/javascript\">                require([\"plotly\"], function(Plotly) {                    window.PLOTLYENV=window.PLOTLYENV || {};                                    if (document.getElementById(\"3208dcf3-d075-47f8-982d-f8137bb6a4d1\")) {                    Plotly.newPlot(                        \"3208dcf3-d075-47f8-982d-f8137bb6a4d1\",                        [{\"hovertemplate\": \"<b>%{hovertext}</b><br><br>pos_max=NNP<br>x=%{x}<br>y=%{y}<br>tfidf_sum_event_max=%{marker.size}<br>term_str=%{text}<extra></extra>\", \"hovertext\": [\"b\", \"e\", \"l\", \"w\", \"q\", \"u\", \"r\", \"p\", \"n\", \"v\", \"f\", \"c\", \"h\", \"g\", \"k\", \"j\", \"z\"], \"legendgroup\": \"NNP\", \"marker\": {\"color\": \"#636efa\", \"size\": [181.38239689135625, 864.012821408875, 46.25104235808095, 893.5124882440413, 28.990248370164792, 242.28971313317476, 64.2087453425996, 138.98570906135078, 684.8263921525794, 97.27401482481244, 100.52590204661942, 176.74944742892325, 178.9500807968442, 38.10019169215335, 163.65766464712704, 170.73667791179477, 157.90803734289196], \"sizemode\": \"area\", \"sizeref\": 8.14069817785464, \"symbol\": \"circle\"}, \"mode\": \"markers+text\", \"name\": \"NNP\", \"orientation\": \"v\", \"showlegend\": true, \"text\": [\"b\", \"e\", \"l\", \"w\", \"q\", \"u\", \"r\", \"p\", \"n\", \"v\", \"f\", \"c\", \"h\", \"g\", \"k\", \"j\", \"z\"], \"textfont\": {\"color\": \"black\", \"family\": \"Arial\", \"size\": 14}, \"textposition\": \"top center\", \"type\": \"scatter\", \"x\": [-119.69706726074219, -31.97583770751953, 122.18194580078125, -174.57171630859375, -277.9150085449219, -9.947990417480469, 91.13666534423828, 311.6803283691406, 130.26087951660156, -127.54778289794922, 46.37028884887695, -201.90219116210938, -280.2319030761719, 87.0575180053711, -225.50599670410156, -166.896240234375, 103.70291137695312], \"xaxis\": \"x\", \"y\": [7.452086925506592, 155.93994140625, -174.36575317382812, 81.79692840576172, 58.17235565185547, 323.5917053222656, 67.34114074707031, 33.2664680480957, -16.98927879333496, 162.63328552246094, -6.2982001304626465, -14.403026580810547, -71.83098602294922, -268.0746765136719, -185.40138244628906, 260.5177001953125, 293.7777404785156], \"yaxis\": \"y\"}, {\"hovertemplate\": \"<b>%{hovertext}</b><br><br>pos_max=CD<br>x=%{x}<br>y=%{y}<br>tfidf_sum_event_max=%{marker.size}<br>term_str=%{text}<extra></extra>\", \"hovertext\": [\"2\", \"0\", \"5\", \"1\", \"9\", \"8\", \"4\", \"3\", \"7\", \"6\"], \"legendgroup\": \"CD\", \"marker\": {\"color\": \"#EF553B\", \"size\": [3256.279271141856, 68.4769132628995, 2592.20175711307, 2936.288022224119, 1446.1810475355046, 2092.3449235853395, 2771.999251835042, 3172.469429087317, 1801.551661364651, 2750.102207278499], \"sizemode\": \"area\", \"sizeref\": 8.14069817785464, \"symbol\": \"circle\"}, \"mode\": \"markers+text\", \"name\": \"CD\", \"orientation\": \"v\", \"showlegend\": true, \"text\": [\"2\", \"0\", \"5\", \"1\", \"9\", \"8\", \"4\", \"3\", \"7\", \"6\"], \"textfont\": {\"color\": \"black\", \"family\": \"Arial\", \"size\": 14}, \"textposition\": \"top center\", \"type\": \"scatter\", \"x\": [-66.31588745117188, 239.95755004882812, -88.18539428710938, 6.257959842681885, -59.075340270996094, 224.73927307128906, 172.9903106689453, 282.400634765625, 29.88156509399414, -25.0958251953125], \"xaxis\": \"x\", \"y\": [241.46798706054688, 111.86864471435547, -71.61470031738281, 73.59330749511719, -153.885009765625, -15.055127143859863, 60.591426849365234, 196.3696746826172, -169.86354064941406, -259.5292663574219], \"yaxis\": \"y\"}, {\"hovertemplate\": \"<b>%{hovertext}</b><br><br>pos_max=JJ<br>x=%{x}<br>y=%{y}<br>tfidf_sum_event_max=%{marker.size}<br>term_str=%{text}<extra></extra>\", \"hovertext\": [\"x\"], \"legendgroup\": \"JJ\", \"marker\": {\"color\": \"#00cc96\", \"size\": [33.60026764767186], \"sizemode\": \"area\", \"sizeref\": 8.14069817785464, \"symbol\": \"circle\"}, \"mode\": \"markers+text\", \"name\": \"JJ\", \"orientation\": \"v\", \"showlegend\": true, \"text\": [\"x\"], \"textfont\": {\"color\": \"black\", \"family\": \"Arial\", \"size\": 14}, \"textposition\": \"top center\", \"type\": \"scatter\", \"x\": [142.084716796875], \"xaxis\": \"x\", \"y\": [154.21224975585938], \"yaxis\": \"y\"}],                        {\"height\": 1000, \"legend\": {\"itemsizing\": \"constant\", \"title\": {\"text\": \"pos_max\"}, \"tracegroupgap\": 0}, \"margin\": {\"t\": 60}, \"template\": {\"data\": {\"bar\": [{\"error_x\": {\"color\": \"#2a3f5f\"}, \"error_y\": {\"color\": \"#2a3f5f\"}, \"marker\": {\"line\": {\"color\": \"#E5ECF6\", \"width\": 0.5}}, \"type\": \"bar\"}], \"barpolar\": [{\"marker\": {\"line\": {\"color\": \"#E5ECF6\", \"width\": 0.5}}, \"type\": \"barpolar\"}], \"carpet\": [{\"aaxis\": {\"endlinecolor\": \"#2a3f5f\", \"gridcolor\": \"white\", \"linecolor\": \"white\", \"minorgridcolor\": \"white\", \"startlinecolor\": \"#2a3f5f\"}, \"baxis\": {\"endlinecolor\": \"#2a3f5f\", \"gridcolor\": \"white\", \"linecolor\": \"white\", \"minorgridcolor\": \"white\", \"startlinecolor\": \"#2a3f5f\"}, \"type\": \"carpet\"}], \"choropleth\": [{\"colorbar\": {\"outlinewidth\": 0, \"ticks\": \"\"}, \"type\": \"choropleth\"}], \"contour\": [{\"colorbar\": {\"outlinewidth\": 0, \"ticks\": \"\"}, \"colorscale\": [[0.0, \"#0d0887\"], [0.1111111111111111, \"#46039f\"], [0.2222222222222222, \"#7201a8\"], [0.3333333333333333, \"#9c179e\"], [0.4444444444444444, \"#bd3786\"], [0.5555555555555556, \"#d8576b\"], [0.6666666666666666, \"#ed7953\"], [0.7777777777777778, \"#fb9f3a\"], [0.8888888888888888, \"#fdca26\"], [1.0, \"#f0f921\"]], \"type\": \"contour\"}], \"contourcarpet\": [{\"colorbar\": {\"outlinewidth\": 0, \"ticks\": \"\"}, \"type\": \"contourcarpet\"}], \"heatmap\": [{\"colorbar\": {\"outlinewidth\": 0, \"ticks\": \"\"}, \"colorscale\": [[0.0, \"#0d0887\"], [0.1111111111111111, \"#46039f\"], [0.2222222222222222, \"#7201a8\"], [0.3333333333333333, \"#9c179e\"], [0.4444444444444444, \"#bd3786\"], [0.5555555555555556, \"#d8576b\"], [0.6666666666666666, \"#ed7953\"], [0.7777777777777778, \"#fb9f3a\"], [0.8888888888888888, \"#fdca26\"], [1.0, \"#f0f921\"]], \"type\": \"heatmap\"}], \"heatmapgl\": [{\"colorbar\": {\"outlinewidth\": 0, \"ticks\": \"\"}, \"colorscale\": [[0.0, \"#0d0887\"], [0.1111111111111111, \"#46039f\"], [0.2222222222222222, \"#7201a8\"], [0.3333333333333333, \"#9c179e\"], [0.4444444444444444, \"#bd3786\"], [0.5555555555555556, \"#d8576b\"], [0.6666666666666666, \"#ed7953\"], [0.7777777777777778, \"#fb9f3a\"], [0.8888888888888888, \"#fdca26\"], [1.0, \"#f0f921\"]], \"type\": \"heatmapgl\"}], \"histogram\": [{\"marker\": {\"colorbar\": {\"outlinewidth\": 0, \"ticks\": \"\"}}, \"type\": \"histogram\"}], \"histogram2d\": [{\"colorbar\": {\"outlinewidth\": 0, \"ticks\": \"\"}, \"colorscale\": [[0.0, \"#0d0887\"], [0.1111111111111111, \"#46039f\"], [0.2222222222222222, \"#7201a8\"], [0.3333333333333333, \"#9c179e\"], [0.4444444444444444, \"#bd3786\"], [0.5555555555555556, \"#d8576b\"], [0.6666666666666666, \"#ed7953\"], [0.7777777777777778, \"#fb9f3a\"], [0.8888888888888888, \"#fdca26\"], [1.0, \"#f0f921\"]], \"type\": \"histogram2d\"}], \"histogram2dcontour\": [{\"colorbar\": {\"outlinewidth\": 0, \"ticks\": \"\"}, \"colorscale\": [[0.0, \"#0d0887\"], [0.1111111111111111, \"#46039f\"], [0.2222222222222222, \"#7201a8\"], [0.3333333333333333, \"#9c179e\"], [0.4444444444444444, \"#bd3786\"], [0.5555555555555556, \"#d8576b\"], [0.6666666666666666, \"#ed7953\"], [0.7777777777777778, \"#fb9f3a\"], [0.8888888888888888, \"#fdca26\"], [1.0, \"#f0f921\"]], \"type\": \"histogram2dcontour\"}], \"mesh3d\": [{\"colorbar\": {\"outlinewidth\": 0, \"ticks\": \"\"}, \"type\": \"mesh3d\"}], \"parcoords\": [{\"line\": {\"colorbar\": {\"outlinewidth\": 0, \"ticks\": \"\"}}, \"type\": \"parcoords\"}], \"pie\": [{\"automargin\": true, \"type\": \"pie\"}], \"scatter\": [{\"marker\": {\"colorbar\": {\"outlinewidth\": 0, \"ticks\": \"\"}}, \"type\": \"scatter\"}], \"scatter3d\": [{\"line\": {\"colorbar\": {\"outlinewidth\": 0, \"ticks\": \"\"}}, \"marker\": {\"colorbar\": {\"outlinewidth\": 0, \"ticks\": \"\"}}, \"type\": \"scatter3d\"}], \"scattercarpet\": [{\"marker\": {\"colorbar\": {\"outlinewidth\": 0, \"ticks\": \"\"}}, \"type\": \"scattercarpet\"}], \"scattergeo\": [{\"marker\": {\"colorbar\": {\"outlinewidth\": 0, \"ticks\": \"\"}}, \"type\": \"scattergeo\"}], \"scattergl\": [{\"marker\": {\"colorbar\": {\"outlinewidth\": 0, \"ticks\": \"\"}}, \"type\": \"scattergl\"}], \"scattermapbox\": [{\"marker\": {\"colorbar\": {\"outlinewidth\": 0, \"ticks\": \"\"}}, \"type\": \"scattermapbox\"}], \"scatterpolar\": [{\"marker\": {\"colorbar\": {\"outlinewidth\": 0, \"ticks\": \"\"}}, \"type\": \"scatterpolar\"}], \"scatterpolargl\": [{\"marker\": {\"colorbar\": {\"outlinewidth\": 0, \"ticks\": \"\"}}, \"type\": \"scatterpolargl\"}], \"scatterternary\": [{\"marker\": {\"colorbar\": {\"outlinewidth\": 0, \"ticks\": \"\"}}, \"type\": \"scatterternary\"}], \"surface\": [{\"colorbar\": {\"outlinewidth\": 0, \"ticks\": \"\"}, \"colorscale\": [[0.0, \"#0d0887\"], [0.1111111111111111, \"#46039f\"], [0.2222222222222222, \"#7201a8\"], [0.3333333333333333, \"#9c179e\"], [0.4444444444444444, \"#bd3786\"], [0.5555555555555556, \"#d8576b\"], [0.6666666666666666, \"#ed7953\"], [0.7777777777777778, \"#fb9f3a\"], [0.8888888888888888, \"#fdca26\"], [1.0, \"#f0f921\"]], \"type\": \"surface\"}], \"table\": [{\"cells\": {\"fill\": {\"color\": \"#EBF0F8\"}, \"line\": {\"color\": \"white\"}}, \"header\": {\"fill\": {\"color\": \"#C8D4E3\"}, \"line\": {\"color\": \"white\"}}, \"type\": \"table\"}]}, \"layout\": {\"annotationdefaults\": {\"arrowcolor\": \"#2a3f5f\", \"arrowhead\": 0, \"arrowwidth\": 1}, \"autotypenumbers\": \"strict\", \"coloraxis\": {\"colorbar\": {\"outlinewidth\": 0, \"ticks\": \"\"}}, \"colorscale\": {\"diverging\": [[0, \"#8e0152\"], [0.1, \"#c51b7d\"], [0.2, \"#de77ae\"], [0.3, \"#f1b6da\"], [0.4, \"#fde0ef\"], [0.5, \"#f7f7f7\"], [0.6, \"#e6f5d0\"], [0.7, \"#b8e186\"], [0.8, \"#7fbc41\"], [0.9, \"#4d9221\"], [1, \"#276419\"]], \"sequential\": [[0.0, \"#0d0887\"], [0.1111111111111111, \"#46039f\"], [0.2222222222222222, \"#7201a8\"], [0.3333333333333333, \"#9c179e\"], [0.4444444444444444, \"#bd3786\"], [0.5555555555555556, \"#d8576b\"], [0.6666666666666666, \"#ed7953\"], [0.7777777777777778, \"#fb9f3a\"], [0.8888888888888888, \"#fdca26\"], [1.0, \"#f0f921\"]], \"sequentialminus\": [[0.0, \"#0d0887\"], [0.1111111111111111, \"#46039f\"], [0.2222222222222222, \"#7201a8\"], [0.3333333333333333, \"#9c179e\"], [0.4444444444444444, \"#bd3786\"], [0.5555555555555556, \"#d8576b\"], [0.6666666666666666, \"#ed7953\"], [0.7777777777777778, \"#fb9f3a\"], [0.8888888888888888, \"#fdca26\"], [1.0, \"#f0f921\"]]}, \"colorway\": [\"#636efa\", \"#EF553B\", \"#00cc96\", \"#ab63fa\", \"#FFA15A\", \"#19d3f3\", \"#FF6692\", \"#B6E880\", \"#FF97FF\", \"#FECB52\"], \"font\": {\"color\": \"#2a3f5f\"}, \"geo\": {\"bgcolor\": \"white\", \"lakecolor\": \"white\", \"landcolor\": \"#E5ECF6\", \"showlakes\": true, \"showland\": true, \"subunitcolor\": \"white\"}, \"hoverlabel\": {\"align\": \"left\"}, \"hovermode\": \"closest\", \"mapbox\": {\"style\": \"light\"}, \"paper_bgcolor\": \"white\", \"plot_bgcolor\": \"#E5ECF6\", \"polar\": {\"angularaxis\": {\"gridcolor\": \"white\", \"linecolor\": \"white\", \"ticks\": \"\"}, \"bgcolor\": \"#E5ECF6\", \"radialaxis\": {\"gridcolor\": \"white\", \"linecolor\": \"white\", \"ticks\": \"\"}}, \"scene\": {\"xaxis\": {\"backgroundcolor\": \"#E5ECF6\", \"gridcolor\": \"white\", \"gridwidth\": 2, \"linecolor\": \"white\", \"showbackground\": true, \"ticks\": \"\", \"zerolinecolor\": \"white\"}, \"yaxis\": {\"backgroundcolor\": \"#E5ECF6\", \"gridcolor\": \"white\", \"gridwidth\": 2, \"linecolor\": \"white\", \"showbackground\": true, \"ticks\": \"\", \"zerolinecolor\": \"white\"}, \"zaxis\": {\"backgroundcolor\": \"#E5ECF6\", \"gridcolor\": \"white\", \"gridwidth\": 2, \"linecolor\": \"white\", \"showbackground\": true, \"ticks\": \"\", \"zerolinecolor\": \"white\"}}, \"shapedefaults\": {\"line\": {\"color\": \"#2a3f5f\"}}, \"ternary\": {\"aaxis\": {\"gridcolor\": \"white\", \"linecolor\": \"white\", \"ticks\": \"\"}, \"baxis\": {\"gridcolor\": \"white\", \"linecolor\": \"white\", \"ticks\": \"\"}, \"bgcolor\": \"#E5ECF6\", \"caxis\": {\"gridcolor\": \"white\", \"linecolor\": \"white\", \"ticks\": \"\"}}, \"title\": {\"x\": 0.05}, \"xaxis\": {\"automargin\": true, \"gridcolor\": \"white\", \"linecolor\": \"white\", \"ticks\": \"\", \"title\": {\"standoff\": 15}, \"zerolinecolor\": \"white\", \"zerolinewidth\": 2}, \"yaxis\": {\"automargin\": true, \"gridcolor\": \"white\", \"linecolor\": \"white\", \"ticks\": \"\", \"title\": {\"standoff\": 15}, \"zerolinecolor\": \"white\", \"zerolinewidth\": 2}}}, \"xaxis\": {\"anchor\": \"y\", \"domain\": [0.0, 1.0], \"title\": {\"text\": \"x\"}}, \"yaxis\": {\"anchor\": \"x\", \"domain\": [0.0, 1.0], \"title\": {\"text\": \"y\"}}},                        {\"responsive\": true}                    ).then(function(){\n",
       "                            \n",
       "var gd = document.getElementById('3208dcf3-d075-47f8-982d-f8137bb6a4d1');\n",
       "var x = new MutationObserver(function (mutations, observer) {{\n",
       "        var display = window.getComputedStyle(gd).display;\n",
       "        if (!display || display === 'none') {{\n",
       "            console.log([gd, 'removed!']);\n",
       "            Plotly.purge(gd);\n",
       "            observer.disconnect();\n",
       "        }}\n",
       "}});\n",
       "\n",
       "// Listen for the removal of the full notebook cells\n",
       "var notebookContainer = gd.closest('#notebook-container');\n",
       "if (notebookContainer) {{\n",
       "    x.observe(notebookContainer, {childList: true});\n",
       "}}\n",
       "\n",
       "// Listen for the clearing of the current output cell\n",
       "var outputEl = gd.closest('.output');\n",
       "if (outputEl) {{\n",
       "    x.observe(outputEl, {childList: true});\n",
       "}}\n",
       "\n",
       "                        })                };                });            </script>        </div>"
      ]
     },
     "metadata": {},
     "output_type": "display_data"
    }
   ],
   "source": [
    "t_sne(model_2020, VOCAB)"
   ]
  },
  {
   "cell_type": "code",
   "execution_count": null,
   "id": "4b984689",
   "metadata": {},
   "outputs": [],
   "source": []
  }
 ],
 "metadata": {
  "kernelspec": {
   "display_name": "Python 3",
   "language": "python",
   "name": "python3"
  },
  "language_info": {
   "codemirror_mode": {
    "name": "ipython",
    "version": 3
   },
   "file_extension": ".py",
   "mimetype": "text/x-python",
   "name": "python",
   "nbconvert_exporter": "python",
   "pygments_lexer": "ipython3",
   "version": "3.7.6"
  }
 },
 "nbformat": 4,
 "nbformat_minor": 5
}
